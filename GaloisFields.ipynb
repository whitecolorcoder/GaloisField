{
 "cells": [
  {
   "cell_type": "markdown",
   "metadata": {},
   "source": [
    "<h1>Задача № 14.4 </h1>\n",
    "<br>\n",
    "По каналу связи получили $\\tilde{Y}_1, ... , \\tilde{Y}_n$. <br>"
   ]
  },
  {
   "cell_type": "markdown",
   "metadata": {},
   "source": [
    "Элемент $\\mathfrak{A}=\\mathfrak{a}=(0, 0, 0, 1, 0)$ (одинаков для для всех задач 14.x). <br>\n",
    "Полином, определяющий операцию умножения: $f(x)=x^5+x^2+1$ (так же одинаков для для всех задач 14.x).\n",
    "\n",
    "##### Зададим поле GF($2^5$) с указанным $f(x)$"
   ]
  },
  {
   "cell_type": "code",
   "execution_count": 88,
   "metadata": {},
   "outputs": [],
   "source": [
    "from pyfinite import ffield\n",
    "import array as arr\n",
    "import sympy as sp\n",
    "import numpy as np\n",
    "F = ffield.FField(5) # create the field GF(2^5) with f(x)=x^5+x^2+1 = [1, 0, 0, 1, 0, 1]\n",
    "aEl = F.ConvertListToElement([0, 0, 0, 1, 0])\n",
    "\n",
    "tS = []\n",
    "tY = [None] * 13\n",
    "tY[0] = -1\n",
    "\n",
    "#14.4\n",
    "#\"Предел\"\n",
    "#tY[1] = F.ConvertListToElement([0, 0, 1, 1, 0])\n",
    "#tY[2] = F.ConvertListToElement([1, 1, 1, 1, 0])\n",
    "#tY[3] = F.ConvertListToElement([1, 1, 0, 1, 0])\n",
    "#tY[4] = F.ConvertListToElement([1, 1, 1, 0, 1])\n",
    "#tY[5] = F.ConvertListToElement([1, 0, 0, 0, 1])\n",
    "#tY[6] = F.ConvertListToElement([0, 0, 0, 1, 0])\n",
    "#tY[7] = F.ConvertListToElement([1, 1, 0, 1, 0])\n",
    "#tY[8] = F.ConvertListToElement([1, 0, 0, 0, 1])\n",
    "#tY[9] = F.ConvertListToElement([1, 1, 1, 0, 1])\n",
    "#tY[10] = F.ConvertListToElement([1, 1, 0, 0, 1])\n",
    "#tY[11] = F.ConvertListToElement([0, 1, 1, 1, 1])\n",
    "#tY[12] = F.ConvertListToElement([0, 1, 1, 0, 0])\n",
    "\n",
    "#14.5\n",
    "#\"Строка\"\n",
    "tY[1] = F.ConvertListToElement([1, 1, 1, 0, 1])\n",
    "tY[2] = F.ConvertListToElement([1, 0, 0, 0, 0])\n",
    "tY[3] = F.ConvertListToElement([1, 1, 0, 1, 1])\n",
    "tY[4] = F.ConvertListToElement([1, 1, 0, 0, 0])\n",
    "tY[5] = F.ConvertListToElement([0, 1, 0, 1, 1])\n",
    "tY[6] = F.ConvertListToElement([1, 0, 0, 1, 0])\n",
    "tY[7] = F.ConvertListToElement([0, 0, 0, 0, 1])\n",
    "tY[8] = F.ConvertListToElement([1, 1, 0, 1, 0])\n",
    "tY[9] = F.ConvertListToElement([0, 0, 0, 1, 1])\n",
    "tY[10] = F.ConvertListToElement([1, 1, 1, 1, 0])\n",
    "tY[11] = F.ConvertListToElement([1, 0, 0, 0, 1])\n",
    "tY[12] = F.ConvertListToElement([0, 0, 0, 1, 0])\n",
    "\n",
    "#14.6\n",
    "#Коэффициенты обнуляются, количество ошибок - 2\n",
    "# tY[1] = F.ConvertListToElement([0, 0, 1, 1, 1])\n",
    "# tY[2] = F.ConvertListToElement([0, 1, 0, 1, 1])\n",
    "# tY[3] = F.ConvertListToElement([1, 0, 0, 1, 1])\n",
    "# tY[4] = F.ConvertListToElement([1, 0, 1, 1, 1])\n",
    "# tY[5] = F.ConvertListToElement([1, 1, 1, 1, 1])\n",
    "# tY[6] = F.ConvertListToElement([0, 1, 1, 1, 0])\n",
    "# tY[7] = F.ConvertListToElement([0, 1, 1, 1, 0])\n",
    "# tY[8] = F.ConvertListToElement([0, 1, 1, 1, 0])\n",
    "# tY[9] = F.ConvertListToElement([0, 1, 0, 0, 1])\n",
    "# tY[10] = F.ConvertListToElement([1, 1, 0, 1, 1])\n",
    "# tY[11] = F.ConvertListToElement([0, 0, 1, 1, 1])\n",
    "# tY[12] = F.ConvertListToElement([1, 0, 0, 0, 1])\n",
    "\n",
    "#14.7\n",
    "#\"Истина\"\n",
    "# tY[1] = F.ConvertListToElement([1, 1, 0, 0, 0])\n",
    "# tY[2] = F.ConvertListToElement([0, 1, 1, 1, 0])\n",
    "# tY[3] = F.ConvertListToElement([1, 0, 0, 0, 0])\n",
    "# tY[4] = F.ConvertListToElement([1, 1, 0, 0, 0])\n",
    "# tY[5] = F.ConvertListToElement([1, 1, 0, 0, 0])\n",
    "# tY[6] = F.ConvertListToElement([0, 0, 1, 0, 1])\n",
    "# tY[7] = F.ConvertListToElement([0, 0, 1, 0, 0])\n",
    "# tY[8] = F.ConvertListToElement([0, 1, 0, 1, 0])\n",
    "# tY[9] = F.ConvertListToElement([1, 1, 0, 0, 0])\n",
    "# tY[10] = F.ConvertListToElement([0, 0, 1, 0, 1])\n",
    "# tY[11] = F.ConvertListToElement([1, 1, 0, 0, 0])\n",
    "# tY[12] = F.ConvertListToElement([0, 0, 0, 0, 1])"
   ]
  },
  {
   "cell_type": "code",
   "execution_count": 93,
   "metadata": {},
   "outputs": [
    {
     "name": "stdout",
     "output_type": "stream",
     "text": [
      "y_1 = 29\n",
      "y_2 = 16\n",
      "y_3 = 27\n",
      "y_4 = 24\n",
      "y_5 = 11\n",
      "y_6 = 18\n",
      "y_7 = 1\n",
      "y_8 = 26\n",
      "y_9 = 3\n",
      "y_10 = 30\n",
      "y_11 = 17\n",
      "y_12 = 2\n"
     ]
    }
   ],
   "source": [
    "for i in range(1, 13):\n",
    "    print(f'y_{i} = {tY[i]}')"
   ]
  },
  {
   "cell_type": "markdown",
   "metadata": {},
   "source": [
    "##### Составляем систему\n",
    "$$\\left\\{\n",
    "\\begin{array}{lllllcl}\n",
    " \\tilde{Y}_1& + \\tilde{Y}_2 &+ \\tilde{Y}_3&  + \\dots + \\tilde{Y}_{12}&=&\\tilde{S}_1, \\\\\n",
    "\\tilde{Y}_1&+ \\tilde{Y}_2\\mathfrak a&+ \\tilde{Y}_3 \\mathfrak a^2&+ \\dots+ \\tilde{Y}_{12}\\mathfrak a^{11}&=&\\tilde{S}_2, \\\\\n",
    "\\tilde{Y}_1&+ \\tilde{Y}_2\\mathfrak a^2&+ \\tilde{Y}_3 \\mathfrak a^4&+ \\dots+ \\tilde{Y}_{12}\\mathfrak a^{22}&=&\\tilde{S}_3,\\\\\n",
    "\\tilde{Y}_1&+ \\tilde{Y}_2\\mathfrak a^3&+ \\tilde{Y}_3 \\mathfrak a^6&+ \\dots + \\tilde{Y}_{12}\\mathfrak a^{33}&=&\\tilde{S}_4. \\\\\n",
    "\\tilde{Y}_1&+ \\tilde{Y}_2\\mathfrak a^4&+ \\tilde{Y}_3 \\mathfrak a^8&+ \\dots + \\tilde{Y}_{12}\\mathfrak a^{44}&=&\\tilde{S}_5. \\\\\n",
    "\\tilde{Y}_1&+ \\tilde{Y}_2\\mathfrak a^5&+ \\tilde{Y}_3 \\mathfrak a^{10}&+ \\dots + \\tilde{Y}_{12}\\mathfrak a^{55}&=&\\tilde{S}_6.\n",
    "\\end{array}\n",
    "\\right. $$\n",
    "Если не выполняется хотя бы одно из условий равенства нулю, то делаем заключение о наличии ошибки передачи."
   ]
  },
  {
   "cell_type": "markdown",
   "metadata": {},
   "source": [
    "##### Проверяем на равенство нулю 1е уравнение"
   ]
  },
  {
   "cell_type": "code",
   "execution_count": 95,
   "metadata": {},
   "outputs": [
    {
     "name": "stdout",
     "output_type": "stream",
     "text": [
      "0\n"
     ]
    }
   ],
   "source": [
    "tS.append(-1)\n",
    "tS.append(0)\n",
    "for i in range(1, 13):\n",
    "    addend = tY[i]\n",
    "    tS[1] = F.Add(tS[1], addend)\n",
    "    \n",
    "print(tS[1])"
   ]
  },
  {
   "cell_type": "markdown",
   "metadata": {},
   "source": [
    "##### Проверяем на равенство нулю 2е уравнение"
   ]
  },
  {
   "cell_type": "code",
   "execution_count": 99,
   "metadata": {},
   "outputs": [
    {
     "name": "stdout",
     "output_type": "stream",
     "text": [
      "-1\n"
     ]
    }
   ],
   "source": [
    "tS.append(0)\n",
    "\n",
    "# a^k, k=1,...,9 for 2nd equation\n",
    "a_pow_k_2 = 1  \n",
    "for i in range(1, 13):\n",
    "    addend = F.Multiply(tY[i], a_pow_k_2)\n",
    "    tS[2] = F.Add(tS[2], addend)\n",
    "    a_pow_k_2 = F.Multiply(a_pow_k_2, aEl)\n",
    "\n",
    "print(tS[2])"
   ]
  },
  {
   "cell_type": "markdown",
   "metadata": {},
   "source": [
    "##### Проверяем на равенство нулю 3е уравнение"
   ]
  },
  {
   "cell_type": "code",
   "execution_count": 101,
   "metadata": {},
   "outputs": [
    {
     "name": "stdout",
     "output_type": "stream",
     "text": [
      "0\n"
     ]
    }
   ],
   "source": [
    "tS.append(0)\n",
    "a_pow_k_3 = 1  \n",
    "a_pow_2 = F.Multiply(aEl, aEl)\n",
    "for i in range(1, 13):\n",
    "    addend = F.Multiply(tY[i], a_pow_k_3)\n",
    "    tS[3] = F.Add(tS[3], addend)\n",
    "    a_pow_k_3 = F.Multiply(a_pow_k_3, a_pow_2)\n",
    "print(tS[3])"
   ]
  },
  {
   "cell_type": "markdown",
   "metadata": {},
   "source": [
    "##### Проверяем на равенство нулю 4е уравнение"
   ]
  },
  {
   "cell_type": "code",
   "execution_count": 102,
   "metadata": {},
   "outputs": [
    {
     "name": "stdout",
     "output_type": "stream",
     "text": [
      "22\n"
     ]
    }
   ],
   "source": [
    "tS.append(0)\n",
    "a_pow_k_4 = 1  \n",
    "a_pow_3 = F.Multiply(a_pow_2, aEl)\n",
    "for i in range(1, 13):\n",
    "    addend = F.Multiply(tY[i], a_pow_k_4)\n",
    "    tS[4] = F.Add(tS[4], addend)\n",
    "    a_pow_k_4 = F.Multiply(a_pow_k_4, a_pow_3)\n",
    "    \n",
    "print(tS[4])"
   ]
  },
  {
   "cell_type": "markdown",
   "metadata": {},
   "source": [
    "##### Проверяем на равенство нулю 5е уравнение"
   ]
  },
  {
   "cell_type": "code",
   "execution_count": 103,
   "metadata": {},
   "outputs": [
    {
     "name": "stdout",
     "output_type": "stream",
     "text": [
      "2\n"
     ]
    }
   ],
   "source": [
    "tS.append(0)\n",
    "a_pow_k_5 = 1  \n",
    "a_pow_4 = F.Multiply(a_pow_3, aEl)\n",
    "for i in range(1, 13):\n",
    "    addend = F.Multiply(tY[i], a_pow_k_5)\n",
    "    tS[5] = F.Add(tS[5], addend)\n",
    "    a_pow_k_5 = F.Multiply(a_pow_k_5, a_pow_4)\n",
    "    \n",
    "print(tS[5])"
   ]
  },
  {
   "cell_type": "markdown",
   "metadata": {},
   "source": [
    "##### Проверяем на равенство нулю 6е уравнение"
   ]
  },
  {
   "cell_type": "code",
   "execution_count": 107,
   "metadata": {},
   "outputs": [
    {
     "name": "stdout",
     "output_type": "stream",
     "text": [
      "0\n"
     ]
    }
   ],
   "source": [
    "tS.append(0)\n",
    "a_pow_k_6 = 1  \n",
    "a_pow_5 = F.Multiply(a_pow_4, aEl)\n",
    "for i in range(1, 13):\n",
    "    addend = F.Multiply(tY[i], a_pow_k_6)\n",
    "    tS[6] = F.Add(tS[6], addend)\n",
    "    a_pow_k_6 = F.Multiply(a_pow_k_6, a_pow_5)\n",
    "\n",
    "print(tS[6]) "
   ]
  },
  {
   "cell_type": "markdown",
   "metadata": {},
   "source": [
    "##### Составляем матрицу для получения полинома локатора ошибок\n",
    "\n",
    "В учебнике дана следующая система: <br>\n",
    "$$\\begin{vmatrix}\n",
    "\\tilde  G(E) & \\tilde  G(\\mathfrak A) & \\tilde  G(\\mathfrak A^2) \\\\\n",
    "\\tilde  G(\\mathfrak A) & \\tilde  G(\\mathfrak A^2) & \\tilde  G(\\mathfrak A^3) \\\\\n",
    "1 & \\mathfrak{x} & \\mathfrak{x^2} \n",
    "\\end{vmatrix}$$\n",
    "В случае 3х ошибок система будет больше (4х4).<br>\n",
    "\n",
    "$$\\begin{vmatrix}\n",
    "\\tilde  G(E) & \\tilde  G(\\mathfrak A) & \\tilde  G(\\mathfrak A^2) & \\tilde  G(\\mathfrak A^3)  \\\\\n",
    "\\tilde  G(\\mathfrak A) & \\tilde  G(\\mathfrak A^2) & \\tilde  G(\\mathfrak A^3) & \\tilde  G(\\mathfrak A^4) \\\\\n",
    "\\tilde  G(\\mathfrak A^2) & \\tilde  G(\\mathfrak A^3) & \\tilde  G(\\mathfrak A^4) & \\tilde  G(\\mathfrak A^5) \\\\\n",
    "1 & \\mathfrak{x} & \\mathfrak{x^2} & \\mathfrak{x^{3}} \n",
    "\\end{vmatrix}$$\n",
    "\n",
    "У нас $S_1, S_2, .., S_6 = 0$. Поэтому наша система имеет вид:\n",
    "$$\\begin{vmatrix} \n",
    "\\tilde{S_1} & \\tilde{S_2} & \\tilde{S_3} \\\\ \n",
    "\\tilde{S_2} & \\tilde{S_3} & \\tilde{S_4} \\\\ \n",
    "1 & \\mathfrak{x} & \\mathfrak{x}^2 \n",
    "\\end{vmatrix} = \\mathfrak{0}$$\n",
    "\n",
    "Или для матрицы (4x4):\n",
    "$$\\begin{vmatrix}\n",
    "\\tilde{S_1} & \\tilde{S_2} & \\tilde{S_3} & \\tilde{S_4}\\\\ \n",
    "\\tilde{S_2} & \\tilde{S_3} & \\tilde{S_4} & \\tilde{S_5}\\\\ \n",
    "\\tilde{S_3} & \\tilde{S_4} & \\tilde{S_5} & \\tilde{S_6}\\\\ \n",
    "1 & \\mathfrak{x} & \\mathfrak{x^2} & \\mathfrak{x^{3}} \n",
    "\\end{vmatrix} = \\mathfrak{0}$$\n",
    "\n",
    "\n",
    "Расписав детерминант, получаем полином локатора ошибок:\n",
    "$$c_0 \\mathfrak{x}^2 + c_1 \\mathfrak{x}^1 + c_2 = \\mathfrak{0},$$\n",
    "где:\n",
    "$$c_0 = \\tilde{S_1} \\tilde{S_3} - \\tilde{S_2} \\tilde{S_2}$$\n",
    "$$c_1 = \\tilde{S_2}\\tilde{S_3} - \\tilde{S_1}\\tilde{S_4} $$\n",
    "$$c_2 = \\tilde{S_2}\\tilde{S_4} - \\tilde{S_3}\\tilde{S_3} $$\n",
    "Или для матрицы (4x4):\n",
    "$$c_0 \\mathfrak{x}^3 + c_1 \\mathfrak{x}^2 + c_2 \\mathfrak{x}^1 + c_3 = \\mathfrak{0},$$\n",
    "где:\n",
    "$$c_0 = \\tilde{S_1} \\tilde{S_3} \\tilde{S_5} + 2 \\tilde{S_2} \\tilde{S_3} \\tilde{S_4} - \\tilde{S_3}^3 - \\tilde{S_1} \\tilde{S_4}^2 - \\tilde{S_2}^2 \\tilde{S_5}$$\n",
    "$$c_1 = \\tilde{S_3}^2 \\tilde{S_4} + \\tilde{S_1} \\tilde{S_4} \\tilde{S_5} + \\tilde{S_2}^2 \\tilde{S_6} - \\tilde{S_1} \\tilde{S_3} \\tilde{S_6} - \\tilde{S_2} \\tilde{S_3} \\tilde{S_5} - \\tilde{S_2} \\tilde{S_4}^2$$\n",
    "$$c_2 = \\tilde{S_2} \\tilde{S_4} \\tilde{S_5} + \\tilde{S_3}^2 \\tilde{S_5} + \\tilde{S_1} \\tilde{S_4} \\tilde{S_6} - \\tilde{S_3} \\tilde{S_4}^2 - \\tilde{S_2} \\tilde{S_3} \\tilde{S_6} - \\tilde{S_1} \\tilde{S_5}^2$$\n",
    "$$c_3 = \\tilde{S_4}^3 + \\tilde{S_3}^2 \\tilde{S_6} + \\tilde{S_2} \\tilde{S_5}^2 - \\tilde{S_2} \\tilde{S_4} \\tilde{S_6} - 2 \\tilde{S_3} \\tilde{S_4} \\tilde{S_5} $$\n",
    "\n",
    "##### Проверяем правильность построения определителя:"
   ]
  },
  {
   "cell_type": "code",
   "execution_count": 109,
   "metadata": {},
   "outputs": [
    {
     "name": "stdout",
     "output_type": "stream",
     "text": [
      "s1*s3*s5*x3 - s1*s3*s6*x2 - s1*s4**2*x3 + s1*s4*s5*x2 + s1*s4*s6*x1 - s1*s5**2*x1 - s2**2*s5*x3 + s2**2*s6*x2 + 2*s2*s3*s4*x3 - s2*s3*s5*x2 - s2*s3*s6*x1 - s2*s4**2*x2 + s2*s4*s5*x1 - s2*s4*s6 + s2*s5**2 - s3**3*x3 + s3**2*s4*x2 + s3**2*s5*x1 + s3**2*s6 - s3*s4**2*x1 - 2*s3*s4*s5 + s4**3\n"
     ]
    }
   ],
   "source": [
    "s1,s2,s3,s4,s5,s6,x1,x2,x3 =sp.symbols('s1,s2,s3,s4,s5,s6,x1,x2,x3')\n",
    "\n",
    "S_symbol = sp.Matrix([[s1, s2, s3, s4],\n",
    "                      [s2, s3, s4, s5],\n",
    "                      [s3, s4, s5, s6],\n",
    "                      [1, x1, x2, x3]])\n",
    "det = S_symbol.det()\n",
    "print(det)\n"
   ]
  },
  {
   "cell_type": "markdown",
   "metadata": {},
   "source": [
    "##### Создаем вспомогательные матрицы произведений и находим коэффициенты:"
   ]
  },
  {
   "cell_type": "code",
   "execution_count": 111,
   "metadata": {},
   "outputs": [
    {
     "name": "stdout",
     "output_type": "stream",
     "text": [
      "[0, 0, 0, 0, 0, 1] [0, 1, 1, 0, 1, 0] [0, 1, 1, 1, 0, 0] [0, 0, 0, 1, 1, 0]\n"
     ]
    }
   ],
   "source": [
    "S_mult2 = []\n",
    "for i in range(7):\n",
    "    S_mult2.append([])\n",
    "    for j in range(7):\n",
    "        S_mult2[i].append(F.Multiply(tS[i],tS[j]))\n",
    "for i in range(7):\n",
    "    S_mult2[0][i] = 0\n",
    "    S_mult2[i][0] = 0\n",
    "\n",
    "#for row in S_mult2:\n",
    "    #print(' '.join([str(elem) for elem in row]))        \n",
    "        \n",
    "\n",
    "#c3_0 = F.Subtract(S_mult2[1][3], S_mult2[2][2])\n",
    "#c3_1 = F.Subtract(S_mult2[2][3], S_mult2[1][4])\n",
    "#c3_2 = F.Subtract(S_mult2[2][4], S_mult2[3][3])\n",
    "#print(F.ShowCoefficients(c3_0), F.ShowCoefficients(c3_1), F.ShowCoefficients(c3_2))\n",
    "\n",
    "S_mult3 = []\n",
    "for i in range(7):\n",
    "    S_mult3.append([])\n",
    "    for j in range(7):\n",
    "        S_mult3[i].append([])\n",
    "        for k in range(7):\n",
    "            S_mult3[i][j].append(F.Multiply(S_mult2[i][j],tS[k]))\n",
    "\n",
    "tmp1 = F.Add(S_mult3[1][3][5], S_mult3[2][3][4])\n",
    "tmp2 = F.Add(S_mult3[3][3][3], S_mult3[1][4][4])\n",
    "c0 = F.Subtract(F.Add(tmp1, S_mult3[2][3][4]), F.Add(tmp2, S_mult3[2][2][5]))\n",
    "\n",
    "tmp1 = F.Add(S_mult3[3][3][4], S_mult3[1][4][5])\n",
    "tmp2 = F.Add(S_mult3[1][3][6], S_mult3[2][3][5])\n",
    "c1 = F.Subtract(F.Add(tmp1, S_mult3[2][2][6]), F.Add(tmp2, S_mult3[2][4][4]))\n",
    "\n",
    "tmp1 = F.Add(S_mult3[2][4][5], S_mult3[3][3][5])\n",
    "tmp2 = F.Add(S_mult3[3][4][4], S_mult3[2][3][6])\n",
    "c2 = F.Subtract(F.Add(tmp1, S_mult3[1][4][6]), F.Add(tmp2, S_mult3[1][5][5]))\n",
    "\n",
    "tmp1 = F.Add(S_mult3[4][4][4], S_mult3[3][3][6])\n",
    "tmp2 = F.Add(S_mult3[2][4][6], S_mult3[3][4][5])\n",
    "c3 = F.Subtract(F.Add(tmp1, S_mult3[2][5][5]), F.Add(tmp2, S_mult3[3][4][5]))\n",
    "\n",
    "print(F.ShowCoefficients(c0), F.ShowCoefficients(c1), F.ShowCoefficients(c2), F.ShowCoefficients(c3))"
   ]
  },
  {
   "cell_type": "markdown",
   "metadata": {},
   "source": [
    "##### Найдем $\\mathfrak{x}$ перебором"
   ]
  },
  {
   "cell_type": "code",
   "execution_count": 114,
   "metadata": {},
   "outputs": [
    {
     "name": "stdout",
     "output_type": "stream",
     "text": [
      "[24, 29, 31]\n"
     ]
    }
   ],
   "source": [
    "solutions = []\n",
    "\n",
    "for i in range(32):\n",
    "    c0_x_x_x = F.Multiply(c0, F.Multiply(i, F.Multiply(i, i)))\n",
    "    c1_x_x = F.Multiply(c1, F.Multiply(i, i))\n",
    "    c2_x = F.Multiply(c2, i)\n",
    "    f_i = F.Add(F.Add(c0_x_x_x, c1_x_x), F.Add(c2_x, c3))\n",
    "    #print(f_i)\n",
    "    if f_i == 0:\n",
    "        solutions.append(i)\n",
    "        \n",
    "    \n",
    "print(solutions)\n",
    "\n",
    "#print( F.Multiply(F.Multiply(5, 5),5))"
   ]
  },
  {
   "cell_type": "markdown",
   "metadata": {},
   "source": [
    "Мы нашли $\\mathfrak x_1, \\mathfrak x_2, \\mathfrak x_3$ тогда позиции ошибок найдутся из уравнений $\\mathfrak a^{i-1}=\\mathfrak x_1, \\mathfrak a^{j-1}=\\mathfrak x_2, \\mathfrak a^{k-1}=\\mathfrak x_3$ помощью «таблицы логарифмов»."
   ]
  },
  {
   "cell_type": "code",
   "execution_count": 115,
   "metadata": {},
   "outputs": [
    {
     "name": "stdout",
     "output_type": "stream",
     "text": [
      "Таблица логарифмов:\n",
      "a^0 = 1\n",
      "a^1 = 2\n",
      "a^2 = 4\n",
      "a^3 = 8\n",
      "a^4 = 16\n",
      "a^5 = 5\n",
      "a^6 = 10\n",
      "a^7 = 20\n",
      "a^8 = 13\n",
      "a^9 = 26\n",
      "a^10 = 17\n",
      "a^11 = 7\n",
      "a^12 = 14\n",
      "a^13 = 28\n",
      "a^14 = 29\n",
      "a^15 = 31\n",
      "a^16 = 27\n",
      "a^17 = 19\n",
      "a^18 = 3\n",
      "a^19 = 6\n",
      "a^20 = 12\n",
      "a^21 = 24\n",
      "a^22 = 21\n",
      "a^23 = 15\n",
      "a^24 = 30\n",
      "a^25 = 25\n",
      "a^26 = 23\n",
      "a^27 = 11\n",
      "a^28 = 22\n",
      "a^29 = 9\n",
      "a^30 = 18\n",
      "i = 22\n",
      "j = 15\n",
      "k = 16\n"
     ]
    }
   ],
   "source": [
    "print('Таблица логарифмов:')\n",
    "log_arr = []\n",
    "log_arr.append(1)\n",
    "a_i = 1\n",
    "for i in range(31):\n",
    "    a_i = F.Multiply(a_i, aEl)\n",
    "    log_arr.append(a_i)\n",
    "    print(f'a^{i} = {log_arr[i]}')\n",
    "    \n",
    "    \n",
    "blocks = [] \n",
    "for k in range(3):\n",
    "    for i in range(31):\n",
    "        if (log_arr[i] == solutions[k]):\n",
    "            blocks.append(i+1)\n",
    "            \n",
    "print('i =', blocks[0]) \n",
    "print('j =', blocks[1])\n",
    "print('k =', blocks[2])"
   ]
  },
  {
   "cell_type": "markdown",
   "metadata": {},
   "source": [
    "Находим индексы поврежденных блоков $i, j, k:$ <br>\n",
    "1) $\\mathfrak{x}_1 = 2$. По таблице находим, что $\\mathfrak{a}^{i-1} = \\mathfrak{a}^1 = 2 \\Rightarrow i = 2$. <br>\n",
    "2) $\\mathfrak{x}_2 = 8$. $\\mathfrak{a}^{j-1} = \\mathfrak{a}^3 = 8 \\Rightarrow j = 4$. <br>\n",
    "3) $\\mathfrak{x}_3 = 26$. $\\mathfrak{a}^{k-1} = \\mathfrak{a}^9 = 26 \\Rightarrow k = 10$. <br>\n",
    "Нашли поврежденные блоки: $\\tilde{Y}_2$, $\\tilde{Y}_4$ и $\\tilde{Y}_{10}$.\n",
    "\n",
    "После нахождения значений $i$, $j$ и $k$ истинные значения испорченных блоков восстанавливаются из системы линейных уравнений: \n",
    "$$\\left\\{\n",
    "\\begin{array}{llcl}\n",
    "(Y_i+\\tilde Y_i) + (Y_j+\\tilde Y_j) + (Y_k+\\tilde Y_k) &=&\\tilde S_1, \\\\\n",
    "(Y_i+\\tilde Y_i)\\mathfrak a^{i-1} + (Y_j+\\tilde Y_j)\\mathfrak a^{j-1} + (Y_k+\\tilde Y_k)\\mathfrak a^{k-1} &=&\\tilde S_2. \\\\\n",
    "(Y_i+\\tilde Y_i)\\mathfrak a^{2(i-1)} + (Y_j+\\tilde Y_j)\\mathfrak a^{2(j-1)} + (Y_k+\\tilde Y_k)\\mathfrak a^{2(k-1)} &=&\\tilde S_3.\n",
    "\\end{array}\n",
    "\\right.\n",
    "$$\n",
    "\n",
    "##### Решаем систему перебором:"
   ]
  },
  {
   "cell_type": "code",
   "execution_count": 116,
   "metadata": {},
   "outputs": [
    {
     "ename": "IndexError",
     "evalue": "list index out of range",
     "output_type": "error",
     "traceback": [
      "\u001b[0;31m---------------------------------------------------------------------------\u001b[0m",
      "\u001b[0;31mIndexError\u001b[0m                                Traceback (most recent call last)",
      "Cell \u001b[0;32mIn[116], line 7\u001b[0m\n\u001b[1;32m      5\u001b[0m \u001b[39mfor\u001b[39;00m j \u001b[39min\u001b[39;00m \u001b[39mrange\u001b[39m(\u001b[39m32\u001b[39m):\n\u001b[1;32m      6\u001b[0m     \u001b[39mfor\u001b[39;00m k \u001b[39min\u001b[39;00m \u001b[39mrange\u001b[39m(\u001b[39m32\u001b[39m):\n\u001b[0;32m----> 7\u001b[0m         sumYi \u001b[39m=\u001b[39m F\u001b[39m.\u001b[39mAdd(i, tY[blocks[\u001b[39m0\u001b[39;49m]])\n\u001b[1;32m      8\u001b[0m         sumYj \u001b[39m=\u001b[39m F\u001b[39m.\u001b[39mAdd(j, tY[blocks[\u001b[39m1\u001b[39m]])\n\u001b[1;32m      9\u001b[0m         sumYk \u001b[39m=\u001b[39m F\u001b[39m.\u001b[39mAdd(k, tY[blocks[\u001b[39m2\u001b[39m]])\n",
      "\u001b[0;31mIndexError\u001b[0m: list index out of range"
     ]
    }
   ],
   "source": [
    "y_i = 0\n",
    "y_j = 0\n",
    "y_k = 0\n",
    "for i in range(32):\n",
    "    for j in range(32):\n",
    "        for k in range(32):\n",
    "            sumYi = F.Add(i, tY[blocks[0]])\n",
    "            sumYj = F.Add(j, tY[blocks[1]])\n",
    "            sumYk = F.Add(k, tY[blocks[2]])\n",
    "            #print(sumYi, sumYj, sumYk)\n",
    "            \n",
    "            eq1_left = F.Add(F.Add(sumYi, sumYj), sumYk)\n",
    "            \n",
    "            eq2_left1 = F.Multiply(sumYi, log_arr[blocks[0]-1])\n",
    "            eq2_left2 = F.Multiply(sumYj, log_arr[blocks[1]-1])\n",
    "            eq2_left3 = F.Multiply(sumYk, log_arr[blocks[2]-1])\n",
    "            \n",
    "            eq2_left = F.Add(F.Add(eq2_left1, eq2_left2), eq2_left3)\n",
    "            \n",
    "            eq3_left1 = F.Multiply(sumYi, log_arr[2*(blocks[0]-1)])\n",
    "            eq3_left2 = F.Multiply(sumYj, log_arr[2*(blocks[1]-1)])\n",
    "            eq3_left3 = F.Multiply(sumYk, log_arr[2*(blocks[2]-1)])\n",
    "            eq3_left = F.Add(F.Add(eq3_left1, eq3_left2), eq3_left3)\n",
    "            \n",
    "            if (eq1_left == tS[1]) and (eq2_left == tS[2]) and ((eq3_left == tS[3])):\n",
    "                y_i = i\n",
    "                y_j = j\n",
    "                y_k = k\n",
    "                print(f'y_2 = {y_i}, y_4 = {y_j}, y_10 = {y_k}')\n"
   ]
  },
  {
   "cell_type": "markdown",
   "metadata": {},
   "source": [
    "Сравним блоки"
   ]
  },
  {
   "cell_type": "code",
   "execution_count": 53,
   "metadata": {},
   "outputs": [
    {
     "name": "stdout",
     "output_type": "stream",
     "text": [
      "y_i = 28, broken y_i = 24\n",
      "y_j = 25, broken y_j = 24\n",
      "y_k = 20, broken y_k = 24\n"
     ]
    }
   ],
   "source": [
    "print(f'y_i = {y_i}, broken y_i = {tY[blocks[0]]}')\n",
    "print(f'y_j = {y_j}, broken y_j = {tY[blocks[1]]}')\n",
    "print(f'y_k = {y_k}, broken y_k = {tY[blocks[2]]}')"
   ]
  },
  {
   "cell_type": "markdown",
   "metadata": {},
   "source": [
    "##### Исправляем блоки"
   ]
  },
  {
   "cell_type": "code",
   "execution_count": 54,
   "metadata": {},
   "outputs": [
    {
     "name": "stdout",
     "output_type": "stream",
     "text": [
      "y_1 = 28\n",
      "y_2 = 14\n",
      "y_3 = 16\n",
      "y_4 = 24\n",
      "y_5 = 24\n",
      "y_6 = 5\n",
      "y_7 = 4\n",
      "y_8 = 10\n",
      "y_9 = 25\n",
      "y_10 = 5\n",
      "y_11 = 20\n",
      "y_12 = 1\n"
     ]
    }
   ],
   "source": [
    "tY[blocks[0]] = y_i\n",
    "tY[blocks[1]] = y_j\n",
    "tY[blocks[2]] = y_k\n",
    "\n",
    "for i in range(1, 13):\n",
    "    print(f'y_{i} = {tY[i]}')"
   ]
  },
  {
   "cell_type": "markdown",
   "metadata": {},
   "source": [
    "Теперь нужно из $Y_1, \\dots , Y_{12}$ получить $X_1, \\dots , X_6$. Для этого используем кодовый полином $$G(\\mathfrak x+\\mathfrak e)(\\mathfrak x+ \\mathfrak a)(\\mathfrak x+ \\mathfrak a^2)(\\mathfrak x+ \\mathfrak a^3)(\\mathfrak x+ \\mathfrak a^4) \n",
    "(\\mathfrak x+ \\mathfrak a^5)\\sum_{i=1}^6 X_i\\mathfrak x^{i-1} \\equiv  \n",
    "\\sum_{\\ell=1}^{12} Y_{\\ell}\\mathfrak x^{\\ell-1}\\ .$$\n",
    "Чтобы получить информационный полином $P(x) = \\sum_{i=1}^6 X_i\\mathfrak x^{i-1}$, нужно разделить полином $\\sum_{\\ell=1}^{12} Y_{\\ell}\\mathfrak x^{\\ell-1}$ последовательно на $(\\mathfrak x+\\mathfrak e), (\\mathfrak x+ \\mathfrak a), (\\mathfrak x+ \\mathfrak a^2), (\\mathfrak x+ \\mathfrak a^3), (\\mathfrak x+ \\mathfrak a^4), (\\mathfrak x+ \\mathfrak a^5)$ по схеме Хорнера $\\href {http://vmath.ru/vf5/polynomial#sxema_xornera} {here}$."
   ]
  },
  {
   "cell_type": "markdown",
   "metadata": {},
   "source": [
    "Рассмотрим деление $$G(\\mathfrak x) = \\sum_{\\ell=1}^{12} Y_{\\ell}\\mathfrak x^{\\ell-1} = Y_1 + Y_2 x^1 + Y_3 x^2 + Y_4 x^3 + Y_5 x^4 + Y_6 x^5 + Y_7 x^6 + Y_8 x^7 + Y_9 x^8 + Y_{10} x^9 + Y_{11} x^{10} + Y_{12} x^{11}$$\n",
    "с использованием схемы Хорнера, $x  - $ всё так же элемент поля $GF(2^5)$."
   ]
  },
  {
   "cell_type": "markdown",
   "metadata": {},
   "source": [
    "Далее будем использовать обозначения из параграфа схемы Хорнера.\n",
    "У нас есть $$G(\\mathfrak x) = \\sum_{\\ell=1}^{12} Y_{\\ell}\\mathfrak x^{\\ell-1} = Y_1 + Y_2 x^1 + Y_3 x^2 + Y_4 x^3 + Y_5 x^4 + Y_6 x^5 + Y_7 x^6 + Y_8 x^7 + Y_9 x^8 + Y_{10} x^9 + Y_{11} x^{10} + Y_{12} x^{11}$$\n",
    "В пункте СХ используются обозначения\n",
    "$$f(c)=a_n+a_{n-1}c+a_{n-2}c^2+\\dots +a_1c^{n-1}+a_0c^n$$\n",
    "$$f(c)=a_{11}+a_{10}c+a_{9}c^2+\\dots +a_1c^{10}+a_0c^{11}$$"
   ]
  },
  {
   "cell_type": "markdown",
   "metadata": {},
   "source": [
    "Имеем соответствие: $Y_1 = a_{11}, Y_2 = a_{10}, \\dots , Y_{11} = a_1, Y_{12} = a_0$\n",
    "$$G(x) = f(x) = (x-c)q(x)$$\n",
    "$$q(x)={\\mathfrak b}_0x^{n-1}+\\dots+{\\mathfrak b}_{n-1}$$\n",
    "$$q(x)={\\mathfrak b}_0x^{10}+{\\mathfrak b}_1x^{9}+\\dots+{\\mathfrak b}_9x+{\\mathfrak b}_{10}$$\n",
    "${\\mathfrak b}_{0} = a_0,$<br>\n",
    "${\\mathfrak b}_1= a_0c + a_1,$<br>\n",
    "${\\mathfrak b}_2= a_0c^2 + a_1c + a_2$<br>\n",
    "$ \\dots $<br>\n",
    "${\\mathfrak b}_{n-1} = a_0c^{n-1} + a_1c^{n-2} + \\dots + a_{n-1}$<br>\n",
    "или <br>\n",
    "${\\mathfrak b}_{10} =  a_0c^{10} + a_1c^{9} + \\dots + a_{10}$"
   ]
  },
  {
   "cell_type": "markdown",
   "metadata": {},
   "source": [
    "##### 1. Деление на $\\mathfrak x+\\mathfrak e$ <br>\n",
    "Сначала реверсируем <code>tY[]</code> и получаем массив <code>a_arr1[]</code>, соответствующий $a_0, a_1, \\dots , a_n$. <br>\n",
    "В массивах <code>a_arr1, b_arr1</code> проставлены индексы в соответствии с первой итерацией деления.<br>\n",
    "Для данной итерации $c=-\\mathfrak{e}$.\n"
   ]
  },
  {
   "cell_type": "code",
   "execution_count": 55,
   "metadata": {},
   "outputs": [
    {
     "name": "stdout",
     "output_type": "stream",
     "text": [
      "b[0]=1\n",
      "b[1]=21\n",
      "b[2]=16\n",
      "b[3]=9\n",
      "b[4]=3\n",
      "b[5]=7\n",
      "b[6]=2\n",
      "b[7]=26\n",
      "b[8]=2\n",
      "b[9]=18\n",
      "b[10]=28\n",
      "0\n"
     ]
    }
   ],
   "source": [
    "c=1\n",
    "a_arr1 = list(reversed(tY)) \n",
    "b_arr1 = [0] * 11 \n",
    "b_arr1[0] = a_arr1[0]\n",
    "print(f'b[0]={b_arr1[0]}')\n",
    "for i in range(1, 11):\n",
    "    b_arr1[i] = F.Add(F.Multiply(b_arr1[i-1], c), a_arr1[i]) \n",
    "    print(f'b[{i}]={b_arr1[i]}')\n",
    "    \n",
    "tmp = F.Add(F.Multiply(b_arr1[10], c), a_arr1[11])\n",
    "print(tmp)"
   ]
  },
  {
   "cell_type": "markdown",
   "metadata": {},
   "source": [
    "##### 2. Деление на $\\mathfrak x+\\mathfrak a$\n",
    "\n",
    "Получили полином\n",
    "$$q(x)={\\mathfrak b}_{1,0}x^{10}+{\\mathfrak b}_{1,1}x^9+\\dots+{\\mathfrak b}_{1,9}x+{\\mathfrak b}_{1, 10}=q_1(x)$$\n",
    "\n",
    "Теперь это новый полином $f(x)=f_2(x)$\n",
    "$$q_1(x) =f_2(x)= a_{2, 9}+a_{2, 8}c+a_{2, 7}c^2+\\dots +a_{2, 1}c^8+a_{2, 0}c^{9}$$\n"
   ]
  },
  {
   "cell_type": "markdown",
   "metadata": {},
   "source": [
    "Тут прямое соответствие коэффициентов $a_{2, 0} = {\\mathfrak b}_{1,0}, \\dots, a_{2,8}={\\mathfrak b}_{1, 8}$, <code>b_1[]</code> $\\Rightarrow$ <code>a_2[]</code><br>\n",
    "Индекс 2 соответствует 2й итерации деления, глубокое копирование используется, чтобы не запутаться при переиспользовании элементов. На данной итерации $c=-\\mathfrak{a}$"
   ]
  },
  {
   "cell_type": "code",
   "execution_count": 56,
   "metadata": {},
   "outputs": [],
   "source": [
    "import copy"
   ]
  },
  {
   "cell_type": "code",
   "execution_count": 57,
   "metadata": {},
   "outputs": [
    {
     "name": "stdout",
     "output_type": "stream",
     "text": [
      "b[0]=1\n",
      "b[1]=23\n",
      "b[2]=27\n",
      "b[3]=26\n",
      "b[4]=18\n",
      "b[5]=6\n",
      "b[6]=14\n",
      "b[7]=6\n",
      "b[8]=14\n",
      "b[9]=14\n",
      "0\n"
     ]
    }
   ],
   "source": [
    "c=F.Subtract(0, aEl)\n",
    "a_arr2 = copy.deepcopy(b_arr1)\n",
    "b_arr2 = [0] * 10\n",
    "b_arr2[0] = a_arr2[0]\n",
    "print(f'b[0]={b_arr2[0]}')\n",
    "for i in range(1, 10):\n",
    "    b_arr2[i] = F.Add(F.Multiply(b_arr2[i-1], c), a_arr2[i]) \n",
    "    print(f'b[{i}]={b_arr2[i]}')\n",
    "    \n",
    "tmp = F.Add(F.Multiply(b_arr2[9], c), a_arr2[10])\n",
    "print(tmp)"
   ]
  },
  {
   "cell_type": "markdown",
   "metadata": {},
   "source": [
    "3. Деление на $\\mathfrak x+\\mathfrak a^2$"
   ]
  },
  {
   "cell_type": "code",
   "execution_count": 58,
   "metadata": {},
   "outputs": [
    {
     "name": "stdout",
     "output_type": "stream",
     "text": [
      "b[0]=1\n",
      "b[1]=19\n",
      "b[2]=29\n",
      "b[3]=1\n",
      "b[4]=22\n",
      "b[5]=20\n",
      "b[6]=20\n",
      "b[7]=28\n",
      "b[8]=17\n",
      "0\n"
     ]
    }
   ],
   "source": [
    "c=F.Subtract(0, a_pow_2)\n",
    "a_arr3 = copy.deepcopy(b_arr2)\n",
    "b_arr3 = [0] * 9\n",
    "b_arr3[0] = a_arr3[0]\n",
    "print(f'b[0]={b_arr3[0]}')\n",
    "for i in range(1, 9):\n",
    "    b_arr3[i] = F.Add(F.Multiply(b_arr3[i-1], c), a_arr3[i]) \n",
    "    print(f'b[{i}]={b_arr3[i]}')\n",
    "    \n",
    "tmp = F.Add(F.Multiply(b_arr3[8], c), a_arr3[9])\n",
    "print(tmp)"
   ]
  },
  {
   "cell_type": "markdown",
   "metadata": {},
   "source": [
    "4. Деление на $\\mathfrak x+\\mathfrak a^3$"
   ]
  },
  {
   "cell_type": "code",
   "execution_count": 59,
   "metadata": {},
   "outputs": [
    {
     "name": "stdout",
     "output_type": "stream",
     "text": [
      "b[0]=1\n",
      "b[1]=27\n",
      "b[2]=27\n",
      "b[3]=7\n",
      "b[4]=11\n",
      "b[5]=6\n",
      "b[6]=1\n",
      "b[7]=20\n",
      "0\n"
     ]
    }
   ],
   "source": [
    "c=F.Subtract(0, a_pow_3)\n",
    "a_arr4 = copy.deepcopy(b_arr3)\n",
    "b_arr4 = [0] * 8\n",
    "b_arr4[0] = a_arr4[0]\n",
    "print(f'b[0]={b_arr4[0]}')\n",
    "for i in range(1, 8):\n",
    "    b_arr4[i] = F.Add(F.Multiply(b_arr4[i-1], c), a_arr4[i]) \n",
    "    print(f'b[{i}]={b_arr4[i]}')\n",
    "    \n",
    "tmp = F.Add(F.Multiply(b_arr4[7], c), a_arr4[8])\n",
    "print(tmp)"
   ]
  },
  {
   "cell_type": "markdown",
   "metadata": {},
   "source": [
    "5. Деление на $\\mathfrak x+\\mathfrak a^4$"
   ]
  },
  {
   "cell_type": "code",
   "execution_count": 60,
   "metadata": {},
   "outputs": [
    {
     "name": "stdout",
     "output_type": "stream",
     "text": [
      "b[0]=1\n",
      "b[1]=11\n",
      "b[2]=26\n",
      "b[3]=27\n",
      "b[4]=7\n",
      "b[5]=25\n",
      "b[6]=8\n",
      "0\n"
     ]
    }
   ],
   "source": [
    "c=F.Subtract(0, a_pow_4)\n",
    "a_arr5 = copy.deepcopy(b_arr4)\n",
    "b_arr5 = [0] * 7\n",
    "b_arr5[0] = a_arr5[0]\n",
    "print(f'b[0]={b_arr5[0]}')\n",
    "for i in range(1, 7):\n",
    "    b_arr5[i] = F.Add(F.Multiply(b_arr5[i-1], c), a_arr5[i]) \n",
    "    print(f'b[{i}]={b_arr5[i]}')\n",
    "\n",
    "tmp = F.Add(F.Multiply(b_arr5[6], c), a_arr5[7])\n",
    "print(tmp)"
   ]
  },
  {
   "cell_type": "markdown",
   "metadata": {},
   "source": [
    "6. Деление на $\\mathfrak x+\\mathfrak a^5$"
   ]
  },
  {
   "cell_type": "code",
   "execution_count": 61,
   "metadata": {},
   "outputs": [
    {
     "name": "stdout",
     "output_type": "stream",
     "text": [
      "b[0]=1\n",
      "b[1]=14\n",
      "b[2]=9\n",
      "b[3]=19\n",
      "b[4]=18\n",
      "b[5]=9\n",
      "0\n"
     ]
    }
   ],
   "source": [
    "c=F.Subtract(0, a_pow_5)\n",
    "a_arr6 = copy.deepcopy(b_arr5)\n",
    "b_arr6 = [0] * 6\n",
    "b_arr6[0] = a_arr6[0]\n",
    "print(f'b[0]={b_arr6[0]}')\n",
    "for i in range(1, 6):\n",
    "    b_arr6[i] = F.Add(F.Multiply(b_arr6[i-1], c), a_arr6[i]) \n",
    "    print(f'b[{i}]={b_arr6[i]}')\n",
    "    \n",
    "tmp = F.Add(F.Multiply(b_arr6[5], c), a_arr6[6])\n",
    "print(tmp)"
   ]
  },
  {
   "cell_type": "markdown",
   "metadata": {},
   "source": [
    "Получили полином $$q_4(x)={\\mathfrak b}_{4,0}x^5+{\\mathfrak b}_{4,1}x^4+\\dots+{\\mathfrak b}_{4,4}x+{\\mathfrak b}_{4, 5}$$\n",
    "В то же время мы искали информационный полином $$P(\\mathfrak{x})=\\sum_{i=1}^6 X_i\\mathfrak x^{i-1} = X_1\\mathfrak + X_2\\mathfrak x^1 + X_3\\mathfrak x^2 + X_4\\mathfrak x^3 + X_5\\mathfrak x^4 + X_6\\mathfrak x^5$$"
   ]
  },
  {
   "cell_type": "markdown",
   "metadata": {},
   "source": [
    "Таким образом, по таблице кодировки:\n",
    "$$X_1 = {\\mathfrak b}_{4,5}= 12 \\longrightarrow л $$\n",
    "$$X_2 = {\\mathfrak b}_{4,4}= 6  \\longrightarrow е $$\n",
    "$$X_3 = {\\mathfrak b}_{4,3}= 5  \\longrightarrow д $$\n",
    "$$X_4 = {\\mathfrak b}_{4,2}= 6  \\longrightarrow е $$\n",
    "$$X_5 = {\\mathfrak b}_{4,1}= 17 \\longrightarrow р $$\n",
    "$$X_6 = {\\mathfrak b}_{4,0}= 16 \\longrightarrow п $$"
   ]
  },
  {
   "cell_type": "code",
   "execution_count": null,
   "metadata": {},
   "outputs": [],
   "source": []
  },
  {
   "cell_type": "code",
   "execution_count": null,
   "metadata": {},
   "outputs": [],
   "source": []
  }
 ],
 "metadata": {
  "kernelspec": {
   "display_name": "Python 3",
   "language": "python",
   "name": "python3"
  },
  "language_info": {
   "codemirror_mode": {
    "name": "ipython",
    "version": 3
   },
   "file_extension": ".py",
   "mimetype": "text/x-python",
   "name": "python",
   "nbconvert_exporter": "python",
   "pygments_lexer": "ipython3",
   "version": "3.11.1"
  }
 },
 "nbformat": 4,
 "nbformat_minor": 4
}
